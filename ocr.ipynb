{
 "cells": [
  {
   "attachments": {},
   "cell_type": "markdown",
   "metadata": {},
   "source": [
    "Ce programme permet de lire les éléments contenu dans le tableau d'un fichier pdf et de les enregistrer dans un fichier excel"
   ]
  },
  {
   "cell_type": "code",
   "execution_count": 6,
   "metadata": {},
   "outputs": [],
   "source": [
    "import PyPDF2\n",
    "import openpyxl\n",
    "from openpyxl import Workbook\n",
    "import pandas as pd"
   ]
  },
  {
   "cell_type": "code",
   "execution_count": 7,
   "metadata": {},
   "outputs": [],
   "source": [
    "import pdfplumber\n",
    "\n",
    "def extract_table_data(pdf_path, page_number):\n",
    "    with pdfplumber.open(pdf_path) as pdf:\n",
    "        page = pdf.pages[page_number]\n",
    "        table = page.extract_tables()[0]\n",
    "\n",
    "        headers = table[0]\n",
    "        data = table[1:]\n",
    "\n",
    "        extracted_data = []\n",
    "        for row in data:\n",
    "            extracted_row = dict(zip(headers, row))\n",
    "            extracted_data.append(extracted_row)\n",
    "\n",
    "        return extracted_data\n"
   ]
  },
  {
   "cell_type": "code",
   "execution_count": 8,
   "metadata": {},
   "outputs": [
    {
     "data": {
      "text/plain": [
       "['./pdf\\\\FACR R 04-03-2020.pdf',\n",
       " './pdf\\\\FACT ACCOUPLEMENT 16-09-2020.pdf',\n",
       " './pdf\\\\FACT AMPOULE 10-07-2020.pdf',\n",
       " './pdf\\\\FACT BATTERIE 19-10-2020.pdf',\n",
       " './pdf\\\\FACT CHIFFON 11-11-2020.pdf',\n",
       " './pdf\\\\FACT CHIFFON 29-12-2020.pdf',\n",
       " './pdf\\\\FACT COFRET 29-01-2020.pdf',\n",
       " './pdf\\\\FACT COURROIE 06-11-2020.pdf',\n",
       " './pdf\\\\FACT DES 100 FILTRE.pdf',\n",
       " './pdf\\\\FACT DES ACCOUPLEMENTS.pdf',\n",
       " './pdf\\\\FACT DES CHIFFON COTON 18-02-2022.pdf',\n",
       " './pdf\\\\FACT DES FILTRES 11-01-2022.pdf',\n",
       " './pdf\\\\FACT DES FILTRES 20-09-2022.pdf',\n",
       " './pdf\\\\FACT DES FILTRES 24-05-2023.pdf',\n",
       " './pdf\\\\FACT DES FILTRES 29-01-2023.pdf',\n",
       " './pdf\\\\FACT DES FILTRES.pdf',\n",
       " './pdf\\\\FACT DES PREFILTRES 27-05-2022.pdf',\n",
       " './pdf\\\\FACT DURITE 31-01-2020.pdf',\n",
       " './pdf\\\\FACT EAU DISTILLEE 19-05-2020.pdf',\n",
       " './pdf\\\\FACT FILTRE 15-05-2020.pdf',\n",
       " './pdf\\\\FACT FORET 17-12-2019.pdf',\n",
       " './pdf\\\\FACT GRAIISSE.pdf',\n",
       " './pdf\\\\FACT JOINT 06-07-2020.pdf',\n",
       " './pdf\\\\FACT JOINT 18-11-2020.pdf',\n",
       " './pdf\\\\FACT JOINT SPI 17-02-2020.pdf',\n",
       " './pdf\\\\FACT JOINT SPI 17-08-2020.pdf',\n",
       " './pdf\\\\FACT JOINT SPI 18-11-2020.pdf',\n",
       " './pdf\\\\FACT LOCTITE 31-08-2020.pdf',\n",
       " './pdf\\\\FACT PROJECTEUR 29-12-2020.pdf',\n",
       " './pdf\\\\FACT REGULATEUR 25-07-2020.pdf',\n",
       " './pdf\\\\FACT ROULEMENT 15-05-2020.pdf',\n",
       " './pdf\\\\FACT ROULEMENT 18-02-2020.pdf',\n",
       " './pdf\\\\FACT ROULEMENT 27-05-2020.pdf',\n",
       " './pdf\\\\FACT SAC CHIFFON 23-10-2020.pdf',\n",
       " './pdf\\\\FACT STL GRAISSE.pdf',\n",
       " './pdf\\\\FACTURE DE POMPE 31-03-2022.pdf',\n",
       " './pdf\\\\FACTURE DE SAC DE CHIFFON.pdf',\n",
       " './pdf\\\\facture des filtres.pdf',\n",
       " './pdf\\\\FACTURE DES ROULEMENTS.pdf',\n",
       " './pdf\\\\FACTURE LOCTITE 19-12-2019.pdf',\n",
       " './pdf\\\\LOCTITE 17-12-2019.pdf',\n",
       " './pdf\\\\ROULEMENT 29-12-2020.pdf']"
      ]
     },
     "execution_count": 8,
     "metadata": {},
     "output_type": "execute_result"
    }
   ],
   "source": [
    "import glob \n",
    "\n",
    "files = glob.glob(r\"./pdf/*.pdf\")"
   ]
  },
  {
   "cell_type": "code",
   "execution_count": 10,
   "metadata": {},
   "outputs": [],
   "source": [
    "ln =1\n",
    "fl = Workbook()\n",
    "sheet = fl.active\n",
    "\n",
    "sheet[\"A1\"] = \"Code\"\n",
    "sheet[\"B1\"] = \"Date\"\n",
    "sheet[\"C1\"] = \"Designation\"\n",
    "sheet[\"D1\"] = \"Reference\"\n",
    "sheet[\"E1\"] = \"marque\"\n",
    "sheet[\"F1\"] = \"origine\"\n",
    "sheet[\"G1\"] = \"QTE\"\n",
    "sheet[\"H1\"] = \"Prix HT\"\n",
    "sheet[\"I1\"] = \"Montant HT\"\n",
    "\n",
    "for filename in files :\n",
    "    \n",
    "    with open(f\"{filename}\", 'rb') as pdf:\n",
    "        reader = PyPDF2.PdfReader(pdf)\n",
    "        texte_extrait = reader.pages[0].extract_text()\n",
    "        numero_devis = texte_extrait[texte_extrait.find('devis :')+7 : texte_extrait.find('\\n', texte_extrait.find('devis :'))]\n",
    "        date = texte_extrait[texte_extrait.find('Date :')+6 : texte_extrait.find('\\n', texte_extrait.find('Date :'))]\n",
    "    data = {'code':numero_devis,'date':date}\n",
    "        \n",
    "    pdf_path = f\"{filename}\"\n",
    "    pg_number = 0\n",
    "    table_data = extract_table_data(pdf_path, pg_number)\n",
    "\n",
    "    ln += 1\n",
    "\n",
    "    for prod in table_data[:-1]:\n",
    "        sheet[f\"A{ln}\"] = data[\"code\"]\n",
    "        sheet[f\"B{ln}\"] = data[\"date\"]\n",
    "        sheet[f\"C{ln}\"] = prod[\"Désignation\"]\n",
    "        sheet[f\"D{ln}\"] = prod[\"Référence\"]\n",
    "        sheet[f\"E{ln}\"] = prod[\"marque\"]\n",
    "        sheet[f\"F{ln}\"] = prod[\"origine\"]\n",
    "        sheet[f\"G{ln}\"] = prod[\"QTE\"]\n",
    "        sheet[f\"H{ln}\"] = prod[\"Prix HT\"]\n",
    "        if \"Montan HT\" in prod:\n",
    "            sheet[f\"I{ln}\"] = prod[\"Montan HT\"]\n",
    "        elif \"Montan\\nHT\" in prod:\n",
    "            sheet[f\"I{ln}\"] = prod[\"Montan\\nHT\"]\n",
    "        ln += 1\n",
    "\n",
    "fl.save(\"excel/factures.xlsx\")"
   ]
  }
 ],
 "metadata": {
  "kernelspec": {
   "display_name": "Python 3",
   "language": "python",
   "name": "python3"
  },
  "language_info": {
   "codemirror_mode": {
    "name": "ipython",
    "version": 3
   },
   "file_extension": ".py",
   "mimetype": "text/x-python",
   "name": "python",
   "nbconvert_exporter": "python",
   "pygments_lexer": "ipython3",
   "version": "3.11.3"
  },
  "orig_nbformat": 4
 },
 "nbformat": 4,
 "nbformat_minor": 2
}
